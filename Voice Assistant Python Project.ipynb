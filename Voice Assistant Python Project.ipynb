{
 "cells": [
  {
   "cell_type": "code",
   "execution_count": null,
   "id": "69d6083a-cfbb-41a2-bb8e-c7f0fef8e235",
   "metadata": {},
   "outputs": [],
   "source": [
    "# 1.   Import pyttsx3, library for text to speech in python.*\n",
    "# 2.   Import speech_recognition, library for speech recognition.*\n",
    "# 3.   Import webbrowser, python's library for opening our default browser\n",
    "# 4.   Import datetime, python's basic library for time\n",
    "# 5.   Import pywhatkit, mainly for searching in youtube. Also works on WhatsApp.*\n",
    "# 6.   Import os, python's library for os. Mainly used to shutdown or restart computer.\n",
    "# 7.   Import pyjokes, uhh, just jokes library on python.*\n",
    "# 8.   Import wikipedia, library for accessing data in wikipedia page.*\n",
    "\n",
    "# *If not yet installed, go to powershell and \"pip install [package]\""
   ]
  },
  {
   "cell_type": "code",
   "execution_count": 1,
   "id": "556e1379-e928-451e-8011-3da00bcea2f3",
   "metadata": {},
   "outputs": [],
   "source": [
    "import pyttsx3 as tts\n",
    "import speech_recognition as sr\n",
    "import webbrowser\n",
    "import datetime\n",
    "import os\n",
    "import pywhatkit\n",
    "import pyjokes\n",
    "import wikipedia"
   ]
  },
  {
   "cell_type": "code",
   "execution_count": 13,
   "id": "d5cba73b-5515-4eb6-9291-22b3b7c766a9",
   "metadata": {},
   "outputs": [],
   "source": [
    "# Function to transform audio from microphone into text\n",
    "def listen():\n",
    "    # Speech Recognizer with microphone as source\n",
    "    r = sr.Recognizer()\n",
    "    with sr.Microphone() as source:\n",
    "        # A little pause to wait while we say something\n",
    "        r.pause_threshold = 0.8\n",
    "        # Voice stored to variable audio\n",
    "        audio = r.listen(source) \n",
    "        \n",
    "        try:\n",
    "            # print('V (') # For debugging\n",
    "            # Call google service for text to speech\n",
    "            q = r.recognize_google(audio, language=\"en\")\n",
    "            return q\n",
    "        # If the value of audio is not known\n",
    "        except sr.UnknownValueError:\n",
    "            print(\"X\")\n",
    "            return \"I am waiting\"\n",
    "        # If error while requesting\n",
    "        except sr.RequestError:\n",
    "            print(\"Sorry, service is down\")\n",
    "            return \"I am waiting\"\n",
    "        # Default\n",
    "        except:\n",
    "            return 'I am waiting'"
   ]
  },
  {
   "cell_type": "code",
   "execution_count": 71,
   "id": "3d4ba433-f3fa-4b45-8f87-0689b7020b8e",
   "metadata": {},
   "outputs": [
    {
     "name": "stdout",
     "output_type": "stream",
     "text": [
      "I am listening\n"
     ]
    },
    {
     "data": {
      "text/plain": [
       "'hello Mom'"
      ]
     },
     "execution_count": 71,
     "metadata": {},
     "output_type": "execute_result"
    }
   ],
   "source": [
    "#Testing function\n",
    "listen()"
   ]
  },
  {
   "cell_type": "code",
   "execution_count": 14,
   "id": "49aa8611-9b31-43e2-8a6e-9327e84995fb",
   "metadata": {},
   "outputs": [],
   "source": [
    "#Function to transform text into audio using pyttsx3\n",
    "def speak(message):\n",
    "    #Initializing pyttsx3 engine\n",
    "    engine = tts.init()\n",
    "    #Set Voice Speed\n",
    "    newVoiceRate = 155\n",
    "    engine.setProperty('rate',newVoiceRate)\n",
    "    #Speak the message\n",
    "    print(f'{message})')\n",
    "    engine.say(message)\n",
    "    engine.runAndWait()"
   ]
  },
  {
   "cell_type": "code",
   "execution_count": 75,
   "id": "f1abb08b-8a8a-4c35-ac05-1b8a1356f6cf",
   "metadata": {},
   "outputs": [],
   "source": [
    "#Testing function\n",
    "speak('Good Morning')"
   ]
  },
  {
   "cell_type": "code",
   "execution_count": null,
   "id": "a3488576-6a63-4e26-b2ee-3ec94827ddcb",
   "metadata": {},
   "outputs": [],
   "source": [
    "# Get list of voices available\n",
    "engine = tts.init()\n",
    "for voice in engine.getProperty('voices'):\n",
    "    print(voice)"
   ]
  },
  {
   "cell_type": "code",
   "execution_count": null,
   "id": "0081519d-d10b-4238-86f4-e516a79bba60",
   "metadata": {},
   "outputs": [],
   "source": [
    "#Change voices by changing the id of the voice\n",
    "id = 'HKEY_LOCAL_MACHINE\\SOFTWARE\\Microsoft\\Speech\\Voices\\Tokens\\TTS_MS_EN-US_ZIRA_11.0'\n",
    "engine.setProperty('voices', id)\n",
    "engine.say('Hello world')\n",
    "engine.runAndWait()"
   ]
  },
  {
   "cell_type": "code",
   "execution_count": 4,
   "id": "4471369d-245d-4752-879f-e135d3b2c139",
   "metadata": {},
   "outputs": [],
   "source": [
    "#Function for weekday command\n",
    "def query_day():\n",
    "    #Get the time using datetime library\n",
    "    day = datetime.date.today() #YYYY-MM-DD\n",
    "    # print(day) # for testing\n",
    "    weekday = day.weekday() #Range 0-6 (Mon-Sun)\n",
    "    # print(weekday) # for testing\n",
    "    #Assign each possible value of weekday with its respective day name\n",
    "    mapping = {\n",
    "        0:'Monday', 1:'Tuesday', 2:'Wednesday', 3:'Thursday', 4:'Friday', 5:'Saturday', 6:'Sunday',\n",
    "    }\n",
    "    #Speak the day\n",
    "    try:\n",
    "        speak(f'Today is {mapping[weekday]}')\n",
    "    except:\n",
    "        pass"
   ]
  },
  {
   "cell_type": "code",
   "execution_count": 14,
   "id": "32e919db-eea3-49ee-9a10-de128f2a0d12",
   "metadata": {},
   "outputs": [],
   "source": [
    "#Testing function\n",
    "query_day()"
   ]
  },
  {
   "cell_type": "code",
   "execution_count": 5,
   "id": "412c6fb8-298d-43e8-962a-b16bfc4c37cc",
   "metadata": {},
   "outputs": [],
   "source": [
    "#Function for time command\n",
    "def query_time():\n",
    "    hour = datetime.datetime.now().hour\n",
    "    minute = datetime.datetime.now().minute\n",
    "    # time = datetime.datetime.now().strftime('%I:%M:%S')\n",
    "    # print(time) # for testing\n",
    "    # if time[2] == ':':\n",
    "    #     hour = int(time[1])\n",
    "    #     minute = int(time[3:5])\n",
    "    # else:\n",
    "    #     hour = int(time[1:3])\n",
    "    #     minute = int(time[4:6])\n",
    "    if hour == 0:\n",
    "        speak(f'It is 12 {minute} A M')\n",
    "    elif hour >= 12:\n",
    "        speak(f'It is {hour-12} {minute} P M')\n",
    "    else:\n",
    "        speak(f'It is {hour} {minute} A M')"
   ]
  },
  {
   "cell_type": "code",
   "execution_count": 55,
   "id": "aa5fdfac-648d-4b52-b05c-1bfd79d17fdf",
   "metadata": {},
   "outputs": [],
   "source": [
    "#Testing function\n",
    "query_time()"
   ]
  },
  {
   "cell_type": "code",
   "execution_count": 15,
   "id": "b00a7af2-df00-4a28-976c-f87786968dbb",
   "metadata": {},
   "outputs": [],
   "source": [
    "#Function for greeting\n",
    "def hello(name = None):\n",
    "    if name == None:\n",
    "        speak('Hello. I am Mona. How may I help you?')\n",
    "    else:\n",
    "        speak(f'Hello {name}. I am Mona. How may I help you?')"
   ]
  },
  {
   "cell_type": "code",
   "execution_count": 76,
   "id": "5a1f8979-74c7-40fa-bc73-14508facf5fd",
   "metadata": {},
   "outputs": [],
   "source": [
    "#Testing function\n",
    "hello('The Chosen One')"
   ]
  },
  {
   "cell_type": "code",
   "execution_count": 16,
   "id": "19fda6ed-4d57-416b-a04b-e9667dbc8848",
   "metadata": {},
   "outputs": [],
   "source": [
    "#Defining voice command\n",
    "A"
   ]
  },
  {
   "cell_type": "code",
   "execution_count": 17,
   "id": "2c20e04f-cedb-4a19-a83e-c2739ce7ea83",
   "metadata": {},
   "outputs": [
    {
     "name": "stdout",
     "output_type": "stream",
     "text": [
      "Hello. I am Mona. How may I help you?\n",
      "        )\n",
      "V (\n",
      "Sorry, I have no data for apple)\n",
      "V (\n",
      "Mona is offline)\n"
     ]
    }
   ],
   "source": [
    "startdis()"
   ]
  },
  {
   "cell_type": "code",
   "execution_count": null,
   "id": "7a45aec8-d9d7-4b9c-8138-8eca2d83af30",
   "metadata": {},
   "outputs": [],
   "source": []
  }
 ],
 "metadata": {
  "kernelspec": {
   "display_name": "Python 3 (ipykernel)",
   "language": "python",
   "name": "python3"
  },
  "language_info": {
   "codemirror_mode": {
    "name": "ipython",
    "version": 3
   },
   "file_extension": ".py",
   "mimetype": "text/x-python",
   "name": "python",
   "nbconvert_exporter": "python",
   "pygments_lexer": "ipython3",
   "version": "3.10.0"
  }
 },
 "nbformat": 4,
 "nbformat_minor": 5
}
